{
 "cells": [
  {
   "cell_type": "markdown",
   "metadata": {},
   "source": [
    "# Workflow Steps\n",
    "\n",
    "Here is an overview of the workflow:\n",
    "\n",
    "1. **Data Collection**  \n",
    "        Gather and collect relevant data from various sources.\n",
    "\n",
    "2. **Text Cleaning**  \n",
    "        Remove noise, handle missing values, and clean the text data.\n",
    "\n",
    "3. **Pre-processing**  \n",
    "        Prepare the data for analysis by tokenization, stemming, lemmatization, etc.\n",
    "\n",
    "4. **Feature Engineering**  \n",
    "        Extract meaningful features to improve model performance.\n",
    "\n",
    "5. **Modeling**  \n",
    "        Build and train machine learning models.\n",
    "\n",
    "6. **Evaluation**  \n",
    "        Assess the model's performance using appropriate metrics.\n",
    "\n",
    "7. **Deployment**  \n",
    "        Deploy the model into a production environment.\n",
    "\n",
    "8. **Monitoring and Model Updating**  \n",
    "        Continuously monitor the model's performance and update it as needed."
   ]
  },
  {
   "cell_type": "markdown",
   "metadata": {},
   "source": [
    "## 2. Text Cleaning Steps\n",
    "\n",
    "### 2.1 Removing Extra Spaces\n",
    "    - Eliminate unnecessary spaces to standardize the text.\n",
    "\n",
    "### 2.2 Lowercasing the Text\n",
    "    - Convert all text to lowercase for uniformity.\n",
    "\n",
    "### 2.3 Removing Punctuation\n",
    "    - Remove punctuation marks to simplify the text.\n",
    "\n",
    "### 2.4 Removing Special Characters\n",
    "    - Strip out special characters that are not relevant to the analysis.\n",
    "\n",
    "### 2.5 (Add a step description here)\n",
    "\n",
    "### 2.6 Removing HTML and URLs\n",
    "    - Clean the text by removing HTML tags and URLs.\n"
   ]
  },
  {
   "cell_type": "code",
   "execution_count": null,
   "metadata": {},
   "outputs": [
    {
     "name": "stdout",
     "output_type": "stream",
     "text": [
      "/Users/user/Desktop/Projects/NLP-Learning/course\n"
     ]
    }
   ],
   "source": [
    "DATA_PATH = \"/Users/user/Desktop/Projects/NLP-Learning/data/Reviews.csv\""
   ]
  },
  {
   "cell_type": "code",
   "execution_count": null,
   "metadata": {},
   "outputs": [],
   "source": []
  }
 ],
 "metadata": {
  "kernelspec": {
   "display_name": "venv",
   "language": "python",
   "name": "python3"
  },
  "language_info": {
   "codemirror_mode": {
    "name": "ipython",
    "version": 3
   },
   "file_extension": ".py",
   "mimetype": "text/x-python",
   "name": "python",
   "nbconvert_exporter": "python",
   "pygments_lexer": "ipython3",
   "version": "3.11.9"
  }
 },
 "nbformat": 4,
 "nbformat_minor": 2
}
